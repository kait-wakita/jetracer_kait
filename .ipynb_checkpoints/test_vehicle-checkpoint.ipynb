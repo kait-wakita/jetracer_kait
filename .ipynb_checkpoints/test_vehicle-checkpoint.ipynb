{
 "cells": [
  {
   "cell_type": "markdown",
   "metadata": {},
   "source": [
    "# 走行テスト（3秒間定速走行）\n"
   ]
  },
  {
   "cell_type": "code",
   "execution_count": 1,
   "metadata": {},
   "outputs": [],
   "source": [
    "from jetracer.nvidia_racecar import NvidiaRacecar\n",
    "\n",
    "car = NvidiaRacecar()"
   ]
  },
  {
   "cell_type": "code",
   "execution_count": 2,
   "metadata": {},
   "outputs": [
    {
     "data": {
      "application/vnd.jupyter.widget-view+json": {
       "model_id": "ead7a3bc7d39422292d9ee1db17020b1",
       "version_major": 2,
       "version_minor": 0
      },
      "text/plain": [
       "FloatSlider(value=0.15, description='throttle', max=1.0, step=0.05)"
      ]
     },
     "metadata": {},
     "output_type": "display_data"
    },
    {
     "data": {
      "application/vnd.jupyter.widget-view+json": {
       "model_id": "16c6dc9014e140c89bc285023b6277be",
       "version_major": 2,
       "version_minor": 0
      },
      "text/plain": [
       "FloatSlider(value=0.0, description='steering', max=1.0, min=-1.0, step=0.05)"
      ]
     },
     "metadata": {},
     "output_type": "display_data"
    }
   ],
   "source": [
    "import ipywidgets\n",
    "import traitlets\n",
    "import time\n",
    "\n",
    "throttle_slider = ipywidgets.FloatSlider(min= 0.0, max=1.0, step=0.05, value=0.15, description='throttle')\n",
    "steering_slider = ipywidgets.FloatSlider(min=-1.0, max=1.0, step=0.05, value=0.0, description='steering')\n",
    "\n",
    "display(throttle_slider, steering_slider)"
   ]
  },
  {
   "cell_type": "markdown",
   "metadata": {},
   "source": [
    "操舵：　-1(左) ... 0(中心) ... 1(右)\n",
    "\n",
    "速度： 0(停止)   0.3(低速)  1.0(中速)"
   ]
  },
  {
   "cell_type": "code",
   "execution_count": 4,
   "metadata": {},
   "outputs": [],
   "source": [
    "STEERING_BIAS = -0.15\n",
    "STEERING_GAIN = -0.45\n",
    "\n",
    "THROTTLE_BIAS = 0.08\n",
    "THROTTLE_GAIN = -0.14\n",
    "#THROTTLE_GAIN = -1\n",
    "\n",
    "# 時間計測開始\n",
    "time_start = time.perf_counter()\n",
    "time_now=time_start\n",
    "\n",
    "while(time.perf_counter() < time_start+5):\n",
    "    car.throttle = throttle_slider.value * THROTTLE_GAIN + THROTTLE_BIAS\n",
    "    car.steering = steering_slider.value * STEERING_GAIN + STEERING_BIAS\n",
    "    time.sleep(1)\n",
    "    \n",
    "car.throttle = THROTTLE_BIAS\n",
    "car.steering = STEERING_BIAS"
   ]
  },
  {
   "cell_type": "code",
   "execution_count": null,
   "metadata": {},
   "outputs": [],
   "source": []
  }
 ],
 "metadata": {
  "kernelspec": {
   "display_name": "Python 3",
   "language": "python",
   "name": "python3"
  },
  "language_info": {
   "codemirror_mode": {
    "name": "ipython",
    "version": 3
   },
   "file_extension": ".py",
   "mimetype": "text/x-python",
   "name": "python",
   "nbconvert_exporter": "python",
   "pygments_lexer": "ipython3",
   "version": "3.6.9"
  }
 },
 "nbformat": 4,
 "nbformat_minor": 2
}
